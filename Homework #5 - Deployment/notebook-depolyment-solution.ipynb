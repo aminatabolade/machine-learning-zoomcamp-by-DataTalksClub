{
 "cells": [
  {
   "cell_type": "markdown",
   "id": "d3e9066c",
   "metadata": {},
   "source": [
    "### Check Python version"
   ]
  },
  {
   "cell_type": "code",
   "execution_count": 1,
   "id": "d58501d1",
   "metadata": {},
   "outputs": [
    {
     "data": {
      "text/plain": [
       "'3.9.18 (main, Sep 11 2023, 13:30:38) [MSC v.1916 64 bit (AMD64)]'"
      ]
     },
     "execution_count": 1,
     "metadata": {},
     "output_type": "execute_result"
    }
   ],
   "source": [
    "import sys\n",
    "sys.version"
   ]
  },
  {
   "cell_type": "markdown",
   "id": "f5b53fd2",
   "metadata": {},
   "source": [
    "Import Libraries"
   ]
  },
  {
   "cell_type": "code",
   "execution_count": 9,
   "id": "2cac25b7",
   "metadata": {},
   "outputs": [],
   "source": [
    "import pandas as pd\n",
    "import numpy as np\n",
    "\n",
    "import pipenv\n",
    "import pickle as pkl\n",
    "import requests"
   ]
  },
  {
   "cell_type": "markdown",
   "id": "de975d46",
   "metadata": {},
   "source": [
    "## Question 1"
   ]
  },
  {
   "cell_type": "code",
   "execution_count": 3,
   "id": "3c918d98",
   "metadata": {},
   "outputs": [
    {
     "data": {
      "text/plain": [
       "'2023.10.3'"
      ]
     },
     "execution_count": 3,
     "metadata": {},
     "output_type": "execute_result"
    }
   ],
   "source": [
    "pipenv.__version__"
   ]
  },
  {
   "cell_type": "markdown",
   "id": "c04be32a",
   "metadata": {},
   "source": [
    "## Question 2"
   ]
  },
  {
   "cell_type": "markdown",
   "id": "b939ee22",
   "metadata": {},
   "source": [
    "![Alt Text](Scikit-Pipfile.lock.png)\n"
   ]
  },
  {
   "cell_type": "markdown",
   "id": "b122f280",
   "metadata": {},
   "source": [
    "## Question 3"
   ]
  },
  {
   "cell_type": "code",
   "execution_count": 4,
   "id": "549e1afa",
   "metadata": {},
   "outputs": [],
   "source": [
    "# Load the model1.bin file using pickle\n",
    "with open('model1.bin', 'rb') as model_file:\n",
    "    model = pkl.load(model_file)\n",
    "\n",
    "# Load the dv.bin file using pickle\n",
    "with open('dv.bin', 'rb') as dv_file:\n",
    "    dv = pkl.load(dv_file)"
   ]
  },
  {
   "cell_type": "code",
   "execution_count": 5,
   "id": "5a9ce990",
   "metadata": {},
   "outputs": [],
   "source": [
    "client = {\"job\": \"retired\", \n",
    "          \"duration\": 445, \n",
    "          \"poutcome\": \"success\"}"
   ]
  },
  {
   "cell_type": "code",
   "execution_count": 6,
   "id": "b76b6925",
   "metadata": {},
   "outputs": [
    {
     "name": "stdout",
     "output_type": "stream",
     "text": [
      "The probability that this client will get a credit is: 0.9019309332297606\n"
     ]
    }
   ],
   "source": [
    "X = dv.transform(client)\n",
    "\n",
    "y_pred = model.predict_proba(X)[0][1]\n",
    "\n",
    "print(\"The probability that this client will get a credit is:\", y_pred)"
   ]
  },
  {
   "cell_type": "markdown",
   "id": "7daa3db2",
   "metadata": {},
   "source": [
    "## Question 4"
   ]
  },
  {
   "cell_type": "code",
   "execution_count": 7,
   "id": "1f3a70cc",
   "metadata": {},
   "outputs": [
    {
     "name": "stdout",
     "output_type": "stream",
     "text": [
      "The probability that this client will get a credit is: {'credit': False, 'credit_probability': 0.19137816051137815}\n"
     ]
    }
   ],
   "source": [
    "url = \"http://localhost:9696/predict\" \n",
    "client = {\"job\": \"unknown\", \"duration\": 270, \"poutcome\": \"failure\"}\n",
    "response = requests.post(url, json=client).json()\n",
    "\n",
    "print(\"The probability that this client will get a credit is:\", response)"
   ]
  },
  {
   "cell_type": "markdown",
   "id": "69ed166f",
   "metadata": {},
   "source": [
    "## Question 5"
   ]
  },
  {
   "cell_type": "markdown",
   "id": "fddebf32",
   "metadata": {},
   "source": [
    "![Alt Text](DockerDesktop.png)\n"
   ]
  },
  {
   "cell_type": "markdown",
   "id": "d8c620c4",
   "metadata": {},
   "source": [
    "## Question 6"
   ]
  },
  {
   "cell_type": "code",
   "execution_count": 8,
   "id": "5d5e9685",
   "metadata": {},
   "outputs": [
    {
     "name": "stdout",
     "output_type": "stream",
     "text": [
      "The probability that this client will get a credit is: {'credit': True, 'credit_probability': 0.8884431767352668}\n"
     ]
    }
   ],
   "source": [
    "url = \"http://localhost:9696/predict\"\n",
    "client = {\"job\": \"retired\", \"duration\": 445, \"poutcome\": \"success\"}\n",
    "response = requests.post(url, json=client).json()\n",
    "\n",
    "\n",
    "print(\"The probability that this client will get a credit is:\", response)"
   ]
  },
  {
   "cell_type": "code",
   "execution_count": null,
   "id": "a431ff6b",
   "metadata": {},
   "outputs": [],
   "source": []
  }
 ],
 "metadata": {
  "kernelspec": {
   "display_name": "Python 3 (ipykernel)",
   "language": "python",
   "name": "python3"
  },
  "language_info": {
   "codemirror_mode": {
    "name": "ipython",
    "version": 3
   },
   "file_extension": ".py",
   "mimetype": "text/x-python",
   "name": "python",
   "nbconvert_exporter": "python",
   "pygments_lexer": "ipython3",
   "version": "3.9.18"
  }
 },
 "nbformat": 4,
 "nbformat_minor": 5
}
