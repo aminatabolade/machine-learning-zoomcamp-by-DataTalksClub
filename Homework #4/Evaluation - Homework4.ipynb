{
 "cells": [
  {
   "cell_type": "code",
   "execution_count": 1,
   "id": "83b3ad13",
   "metadata": {},
   "outputs": [],
   "source": [
    "# Import necessary libraries\n",
    "## Exploratory Data Analysis\n",
    "import numpy as np\n",
    "import pandas as pd\n",
    "import matplotlib.pyplot as plt\n",
    "%matplotlib inline\n",
    "import seaborn as sns\n",
    "sns.set(color_codes = True)\n",
    "\n",
    "##Modelling\n",
    "from sklearn.model_selection import train_test_split\n",
    "from sklearn.metrics import mutual_info_score\n",
    "from sklearn.preprocessing import OneHotEncoder\n",
    "from sklearn.linear_model import LogisticRegression\n",
    "from sklearn.metrics import accuracy_score\n",
    "from sklearn.feature_extraction import DictVectorizer\n",
    "\n",
    "##Evaluation\n",
    "from sklearn.metrics import roc_auc_score\n",
    "from sklearn.metrics import confusion_matrix, classification_report\n",
    "from sklearn.metrics import precision_score, recall_score, f1_score\n",
    "\n",
    "from sklearn.model_selection import KFold"
   ]
  },
  {
   "cell_type": "code",
   "execution_count": 2,
   "id": "4e8a8deb",
   "metadata": {},
   "outputs": [
    {
     "data": {
      "text/plain": [
       "(11914, 16)"
      ]
     },
     "execution_count": 2,
     "metadata": {},
     "output_type": "execute_result"
    }
   ],
   "source": [
    "df = pd.read_csv('chapter-02-car-price_data.csv')\n",
    "df.shape"
   ]
  },
  {
   "cell_type": "code",
   "execution_count": 3,
   "id": "e92d9048",
   "metadata": {},
   "outputs": [
    {
     "data": {
      "text/html": [
       "<div>\n",
       "<style scoped>\n",
       "    .dataframe tbody tr th:only-of-type {\n",
       "        vertical-align: middle;\n",
       "    }\n",
       "\n",
       "    .dataframe tbody tr th {\n",
       "        vertical-align: top;\n",
       "    }\n",
       "\n",
       "    .dataframe thead th {\n",
       "        text-align: right;\n",
       "    }\n",
       "</style>\n",
       "<table border=\"1\" class=\"dataframe\">\n",
       "  <thead>\n",
       "    <tr style=\"text-align: right;\">\n",
       "      <th></th>\n",
       "      <th>0</th>\n",
       "      <th>1</th>\n",
       "      <th>2</th>\n",
       "      <th>3</th>\n",
       "      <th>4</th>\n",
       "    </tr>\n",
       "  </thead>\n",
       "  <tbody>\n",
       "    <tr>\n",
       "      <th>Make</th>\n",
       "      <td>BMW</td>\n",
       "      <td>BMW</td>\n",
       "      <td>BMW</td>\n",
       "      <td>BMW</td>\n",
       "      <td>BMW</td>\n",
       "    </tr>\n",
       "    <tr>\n",
       "      <th>Model</th>\n",
       "      <td>1 Series M</td>\n",
       "      <td>1 Series</td>\n",
       "      <td>1 Series</td>\n",
       "      <td>1 Series</td>\n",
       "      <td>1 Series</td>\n",
       "    </tr>\n",
       "    <tr>\n",
       "      <th>Year</th>\n",
       "      <td>2011</td>\n",
       "      <td>2011</td>\n",
       "      <td>2011</td>\n",
       "      <td>2011</td>\n",
       "      <td>2011</td>\n",
       "    </tr>\n",
       "    <tr>\n",
       "      <th>Engine Fuel Type</th>\n",
       "      <td>premium unleaded (required)</td>\n",
       "      <td>premium unleaded (required)</td>\n",
       "      <td>premium unleaded (required)</td>\n",
       "      <td>premium unleaded (required)</td>\n",
       "      <td>premium unleaded (required)</td>\n",
       "    </tr>\n",
       "    <tr>\n",
       "      <th>Engine HP</th>\n",
       "      <td>335.0</td>\n",
       "      <td>300.0</td>\n",
       "      <td>300.0</td>\n",
       "      <td>230.0</td>\n",
       "      <td>230.0</td>\n",
       "    </tr>\n",
       "    <tr>\n",
       "      <th>Engine Cylinders</th>\n",
       "      <td>6.0</td>\n",
       "      <td>6.0</td>\n",
       "      <td>6.0</td>\n",
       "      <td>6.0</td>\n",
       "      <td>6.0</td>\n",
       "    </tr>\n",
       "    <tr>\n",
       "      <th>Transmission Type</th>\n",
       "      <td>MANUAL</td>\n",
       "      <td>MANUAL</td>\n",
       "      <td>MANUAL</td>\n",
       "      <td>MANUAL</td>\n",
       "      <td>MANUAL</td>\n",
       "    </tr>\n",
       "    <tr>\n",
       "      <th>Driven_Wheels</th>\n",
       "      <td>rear wheel drive</td>\n",
       "      <td>rear wheel drive</td>\n",
       "      <td>rear wheel drive</td>\n",
       "      <td>rear wheel drive</td>\n",
       "      <td>rear wheel drive</td>\n",
       "    </tr>\n",
       "    <tr>\n",
       "      <th>Number of Doors</th>\n",
       "      <td>2.0</td>\n",
       "      <td>2.0</td>\n",
       "      <td>2.0</td>\n",
       "      <td>2.0</td>\n",
       "      <td>2.0</td>\n",
       "    </tr>\n",
       "    <tr>\n",
       "      <th>Market Category</th>\n",
       "      <td>Factory Tuner,Luxury,High-Performance</td>\n",
       "      <td>Luxury,Performance</td>\n",
       "      <td>Luxury,High-Performance</td>\n",
       "      <td>Luxury,Performance</td>\n",
       "      <td>Luxury</td>\n",
       "    </tr>\n",
       "    <tr>\n",
       "      <th>Vehicle Size</th>\n",
       "      <td>Compact</td>\n",
       "      <td>Compact</td>\n",
       "      <td>Compact</td>\n",
       "      <td>Compact</td>\n",
       "      <td>Compact</td>\n",
       "    </tr>\n",
       "    <tr>\n",
       "      <th>Vehicle Style</th>\n",
       "      <td>Coupe</td>\n",
       "      <td>Convertible</td>\n",
       "      <td>Coupe</td>\n",
       "      <td>Coupe</td>\n",
       "      <td>Convertible</td>\n",
       "    </tr>\n",
       "    <tr>\n",
       "      <th>highway MPG</th>\n",
       "      <td>26</td>\n",
       "      <td>28</td>\n",
       "      <td>28</td>\n",
       "      <td>28</td>\n",
       "      <td>28</td>\n",
       "    </tr>\n",
       "    <tr>\n",
       "      <th>city mpg</th>\n",
       "      <td>19</td>\n",
       "      <td>19</td>\n",
       "      <td>20</td>\n",
       "      <td>18</td>\n",
       "      <td>18</td>\n",
       "    </tr>\n",
       "    <tr>\n",
       "      <th>Popularity</th>\n",
       "      <td>3916</td>\n",
       "      <td>3916</td>\n",
       "      <td>3916</td>\n",
       "      <td>3916</td>\n",
       "      <td>3916</td>\n",
       "    </tr>\n",
       "    <tr>\n",
       "      <th>MSRP</th>\n",
       "      <td>46135</td>\n",
       "      <td>40650</td>\n",
       "      <td>36350</td>\n",
       "      <td>29450</td>\n",
       "      <td>34500</td>\n",
       "    </tr>\n",
       "  </tbody>\n",
       "</table>\n",
       "</div>"
      ],
      "text/plain": [
       "                                                       0  \\\n",
       "Make                                                 BMW   \n",
       "Model                                         1 Series M   \n",
       "Year                                                2011   \n",
       "Engine Fuel Type             premium unleaded (required)   \n",
       "Engine HP                                          335.0   \n",
       "Engine Cylinders                                     6.0   \n",
       "Transmission Type                                 MANUAL   \n",
       "Driven_Wheels                           rear wheel drive   \n",
       "Number of Doors                                      2.0   \n",
       "Market Category    Factory Tuner,Luxury,High-Performance   \n",
       "Vehicle Size                                     Compact   \n",
       "Vehicle Style                                      Coupe   \n",
       "highway MPG                                           26   \n",
       "city mpg                                              19   \n",
       "Popularity                                          3916   \n",
       "MSRP                                               46135   \n",
       "\n",
       "                                             1                            2  \\\n",
       "Make                                       BMW                          BMW   \n",
       "Model                                 1 Series                     1 Series   \n",
       "Year                                      2011                         2011   \n",
       "Engine Fuel Type   premium unleaded (required)  premium unleaded (required)   \n",
       "Engine HP                                300.0                        300.0   \n",
       "Engine Cylinders                           6.0                          6.0   \n",
       "Transmission Type                       MANUAL                       MANUAL   \n",
       "Driven_Wheels                 rear wheel drive             rear wheel drive   \n",
       "Number of Doors                            2.0                          2.0   \n",
       "Market Category             Luxury,Performance      Luxury,High-Performance   \n",
       "Vehicle Size                           Compact                      Compact   \n",
       "Vehicle Style                      Convertible                        Coupe   \n",
       "highway MPG                                 28                           28   \n",
       "city mpg                                    19                           20   \n",
       "Popularity                                3916                         3916   \n",
       "MSRP                                     40650                        36350   \n",
       "\n",
       "                                             3                            4  \n",
       "Make                                       BMW                          BMW  \n",
       "Model                                 1 Series                     1 Series  \n",
       "Year                                      2011                         2011  \n",
       "Engine Fuel Type   premium unleaded (required)  premium unleaded (required)  \n",
       "Engine HP                                230.0                        230.0  \n",
       "Engine Cylinders                           6.0                          6.0  \n",
       "Transmission Type                       MANUAL                       MANUAL  \n",
       "Driven_Wheels                 rear wheel drive             rear wheel drive  \n",
       "Number of Doors                            2.0                          2.0  \n",
       "Market Category             Luxury,Performance                       Luxury  \n",
       "Vehicle Size                           Compact                      Compact  \n",
       "Vehicle Style                            Coupe                  Convertible  \n",
       "highway MPG                                 28                           28  \n",
       "city mpg                                    18                           18  \n",
       "Popularity                                3916                         3916  \n",
       "MSRP                                     29450                        34500  "
      ]
     },
     "execution_count": 3,
     "metadata": {},
     "output_type": "execute_result"
    }
   ],
   "source": [
    "df.head().T"
   ]
  },
  {
   "cell_type": "markdown",
   "id": "8a697293",
   "metadata": {},
   "source": [
    "#### Instruction\n",
    "For the rest of the homework, you'll need to use only these columns:\n",
    "\n",
    "- Make,\n",
    "- Model,\n",
    "- Year,\n",
    "- Engine HP,\n",
    "- Engine Cylinders,\n",
    "- Transmission Type,\n",
    "- Vehicle Style,\n",
    "- highway MPG,\n",
    "- city mpg\n",
    "- MSRP"
   ]
  },
  {
   "cell_type": "code",
   "execution_count": 4,
   "id": "9d61940c",
   "metadata": {},
   "outputs": [
    {
     "data": {
      "text/plain": [
       "Index(['Make', 'Model', 'Year', 'Engine Fuel Type', 'Engine HP',\n",
       "       'Engine Cylinders', 'Transmission Type', 'Driven_Wheels',\n",
       "       'Number of Doors', 'Market Category', 'Vehicle Size', 'Vehicle Style',\n",
       "       'highway MPG', 'city mpg', 'Popularity', 'MSRP'],\n",
       "      dtype='object')"
      ]
     },
     "execution_count": 4,
     "metadata": {},
     "output_type": "execute_result"
    }
   ],
   "source": [
    "df.columns"
   ]
  },
  {
   "cell_type": "code",
   "execution_count": 5,
   "id": "24156189",
   "metadata": {},
   "outputs": [],
   "source": [
    "features = ['Make', 'Model', 'Year', 'Engine HP', 'Engine Cylinders', 'Transmission Type',\n",
    "            'Vehicle Style', 'highway MPG','city mpg', 'MSRP']\n",
    "\n",
    "# Create a new DataFrame with required features\n",
    "data = df[features]"
   ]
  },
  {
   "cell_type": "code",
   "execution_count": 6,
   "id": "d1aee97e",
   "metadata": {},
   "outputs": [
    {
     "data": {
      "text/html": [
       "<div>\n",
       "<style scoped>\n",
       "    .dataframe tbody tr th:only-of-type {\n",
       "        vertical-align: middle;\n",
       "    }\n",
       "\n",
       "    .dataframe tbody tr th {\n",
       "        vertical-align: top;\n",
       "    }\n",
       "\n",
       "    .dataframe thead th {\n",
       "        text-align: right;\n",
       "    }\n",
       "</style>\n",
       "<table border=\"1\" class=\"dataframe\">\n",
       "  <thead>\n",
       "    <tr style=\"text-align: right;\">\n",
       "      <th></th>\n",
       "      <th>0</th>\n",
       "      <th>1</th>\n",
       "      <th>2</th>\n",
       "      <th>3</th>\n",
       "      <th>4</th>\n",
       "    </tr>\n",
       "  </thead>\n",
       "  <tbody>\n",
       "    <tr>\n",
       "      <th>Make</th>\n",
       "      <td>BMW</td>\n",
       "      <td>BMW</td>\n",
       "      <td>BMW</td>\n",
       "      <td>BMW</td>\n",
       "      <td>BMW</td>\n",
       "    </tr>\n",
       "    <tr>\n",
       "      <th>Model</th>\n",
       "      <td>1 Series M</td>\n",
       "      <td>1 Series</td>\n",
       "      <td>1 Series</td>\n",
       "      <td>1 Series</td>\n",
       "      <td>1 Series</td>\n",
       "    </tr>\n",
       "    <tr>\n",
       "      <th>Year</th>\n",
       "      <td>2011</td>\n",
       "      <td>2011</td>\n",
       "      <td>2011</td>\n",
       "      <td>2011</td>\n",
       "      <td>2011</td>\n",
       "    </tr>\n",
       "    <tr>\n",
       "      <th>Engine HP</th>\n",
       "      <td>335.0</td>\n",
       "      <td>300.0</td>\n",
       "      <td>300.0</td>\n",
       "      <td>230.0</td>\n",
       "      <td>230.0</td>\n",
       "    </tr>\n",
       "    <tr>\n",
       "      <th>Engine Cylinders</th>\n",
       "      <td>6.0</td>\n",
       "      <td>6.0</td>\n",
       "      <td>6.0</td>\n",
       "      <td>6.0</td>\n",
       "      <td>6.0</td>\n",
       "    </tr>\n",
       "    <tr>\n",
       "      <th>Transmission Type</th>\n",
       "      <td>MANUAL</td>\n",
       "      <td>MANUAL</td>\n",
       "      <td>MANUAL</td>\n",
       "      <td>MANUAL</td>\n",
       "      <td>MANUAL</td>\n",
       "    </tr>\n",
       "    <tr>\n",
       "      <th>Vehicle Style</th>\n",
       "      <td>Coupe</td>\n",
       "      <td>Convertible</td>\n",
       "      <td>Coupe</td>\n",
       "      <td>Coupe</td>\n",
       "      <td>Convertible</td>\n",
       "    </tr>\n",
       "    <tr>\n",
       "      <th>highway MPG</th>\n",
       "      <td>26</td>\n",
       "      <td>28</td>\n",
       "      <td>28</td>\n",
       "      <td>28</td>\n",
       "      <td>28</td>\n",
       "    </tr>\n",
       "    <tr>\n",
       "      <th>city mpg</th>\n",
       "      <td>19</td>\n",
       "      <td>19</td>\n",
       "      <td>20</td>\n",
       "      <td>18</td>\n",
       "      <td>18</td>\n",
       "    </tr>\n",
       "    <tr>\n",
       "      <th>MSRP</th>\n",
       "      <td>46135</td>\n",
       "      <td>40650</td>\n",
       "      <td>36350</td>\n",
       "      <td>29450</td>\n",
       "      <td>34500</td>\n",
       "    </tr>\n",
       "  </tbody>\n",
       "</table>\n",
       "</div>"
      ],
      "text/plain": [
       "                            0            1         2         3            4\n",
       "Make                      BMW          BMW       BMW       BMW          BMW\n",
       "Model              1 Series M     1 Series  1 Series  1 Series     1 Series\n",
       "Year                     2011         2011      2011      2011         2011\n",
       "Engine HP               335.0        300.0     300.0     230.0        230.0\n",
       "Engine Cylinders          6.0          6.0       6.0       6.0          6.0\n",
       "Transmission Type      MANUAL       MANUAL    MANUAL    MANUAL       MANUAL\n",
       "Vehicle Style           Coupe  Convertible     Coupe     Coupe  Convertible\n",
       "highway MPG                26           28        28        28           28\n",
       "city mpg                   19           19        20        18           18\n",
       "MSRP                    46135        40650     36350     29450        34500"
      ]
     },
     "execution_count": 6,
     "metadata": {},
     "output_type": "execute_result"
    }
   ],
   "source": [
    "data.head().T"
   ]
  },
  {
   "cell_type": "markdown",
   "id": "a933cdb3",
   "metadata": {},
   "source": [
    "## Data preparation\n",
    "- Keep only the columns above\n",
    "- Lowercase the column names and replace spaces with underscores\n",
    "- Fill the missing values with 0\n",
    "- Make the price binary (1 if above the average, 0 otherwise) - this will be our target variable above_average\n",
    "- Split the data into 3 parts: train/validation/test with 60%/20%/20% distribution. Use train_test_split function for that with random_state=1"
   ]
  },
  {
   "cell_type": "code",
   "execution_count": 7,
   "id": "875914de",
   "metadata": {},
   "outputs": [
    {
     "data": {
      "text/plain": [
       "Index(['Make', 'Model', 'Year', 'Engine HP', 'Engine Cylinders',\n",
       "       'Transmission Type', 'Vehicle Style', 'highway MPG', 'city mpg',\n",
       "       'MSRP'],\n",
       "      dtype='object')"
      ]
     },
     "execution_count": 7,
     "metadata": {},
     "output_type": "execute_result"
    }
   ],
   "source": [
    "data.columns"
   ]
  },
  {
   "cell_type": "code",
   "execution_count": 8,
   "id": "637a973d",
   "metadata": {},
   "outputs": [
    {
     "data": {
      "text/plain": [
       "Index(['make', 'model', 'year', 'engine_hp', 'engine_cylinders',\n",
       "       'transmission_type', 'vehicle_style', 'highway_mpg', 'city_mpg',\n",
       "       'msrp'],\n",
       "      dtype='object')"
      ]
     },
     "execution_count": 8,
     "metadata": {},
     "output_type": "execute_result"
    }
   ],
   "source": [
    "data.columns = data.columns.str.replace(' ', '_').str.lower()\n",
    "data.columns"
   ]
  },
  {
   "cell_type": "code",
   "execution_count": 9,
   "id": "2ccd9bfb",
   "metadata": {},
   "outputs": [
    {
     "data": {
      "text/plain": [
       "make                  0\n",
       "model                 0\n",
       "year                  0\n",
       "engine_hp            69\n",
       "engine_cylinders     30\n",
       "transmission_type     0\n",
       "vehicle_style         0\n",
       "highway_mpg           0\n",
       "city_mpg              0\n",
       "msrp                  0\n",
       "dtype: int64"
      ]
     },
     "execution_count": 9,
     "metadata": {},
     "output_type": "execute_result"
    }
   ],
   "source": [
    "data.isna().sum()"
   ]
  },
  {
   "cell_type": "code",
   "execution_count": 10,
   "id": "a3b848eb",
   "metadata": {},
   "outputs": [],
   "source": [
    "data = data.copy()"
   ]
  },
  {
   "cell_type": "code",
   "execution_count": 11,
   "id": "76145fb2",
   "metadata": {},
   "outputs": [],
   "source": [
    "data['engine_hp'].fillna(0, inplace=True)"
   ]
  },
  {
   "cell_type": "code",
   "execution_count": 12,
   "id": "607b22b9",
   "metadata": {},
   "outputs": [],
   "source": [
    "data['engine_cylinders'].fillna(0, inplace=True)"
   ]
  },
  {
   "cell_type": "code",
   "execution_count": 13,
   "id": "e31f8ff2",
   "metadata": {},
   "outputs": [
    {
     "data": {
      "text/plain": [
       "make                 0\n",
       "model                0\n",
       "year                 0\n",
       "engine_hp            0\n",
       "engine_cylinders     0\n",
       "transmission_type    0\n",
       "vehicle_style        0\n",
       "highway_mpg          0\n",
       "city_mpg             0\n",
       "msrp                 0\n",
       "dtype: int64"
      ]
     },
     "execution_count": 13,
     "metadata": {},
     "output_type": "execute_result"
    }
   ],
   "source": [
    "data.isna().sum()"
   ]
  },
  {
   "cell_type": "code",
   "execution_count": 14,
   "id": "7a805c3c",
   "metadata": {},
   "outputs": [],
   "source": [
    "data.rename(columns={'msrp': 'price'}, inplace=True)"
   ]
  },
  {
   "cell_type": "code",
   "execution_count": 15,
   "id": "11ae4637",
   "metadata": {},
   "outputs": [
    {
     "data": {
      "text/plain": [
       "0        46135\n",
       "1        40650\n",
       "2        36350\n",
       "3        29450\n",
       "4        34500\n",
       "         ...  \n",
       "11909    46120\n",
       "11910    56670\n",
       "11911    50620\n",
       "11912    50920\n",
       "11913    28995\n",
       "Name: price, Length: 11914, dtype: int64"
      ]
     },
     "execution_count": 15,
     "metadata": {},
     "output_type": "execute_result"
    }
   ],
   "source": [
    "data.price"
   ]
  },
  {
   "cell_type": "code",
   "execution_count": 16,
   "id": "65ba3aa5",
   "metadata": {},
   "outputs": [],
   "source": [
    "# Make price binary (1 if above the average, 0 otherwise)\n",
    "mean_price = data.price.mean()\n",
    "\n",
    "# Target variable will be 'above_average'\n",
    "data['above_average'] = (data['price'] > mean_price).astype(int)"
   ]
  },
  {
   "cell_type": "code",
   "execution_count": 17,
   "id": "6e7b03c9",
   "metadata": {},
   "outputs": [
    {
     "data": {
      "text/plain": [
       "0        1\n",
       "1        1\n",
       "2        0\n",
       "3        0\n",
       "4        0\n",
       "        ..\n",
       "11909    1\n",
       "11910    1\n",
       "11911    1\n",
       "11912    1\n",
       "11913    0\n",
       "Name: above_average, Length: 11914, dtype: int32"
      ]
     },
     "execution_count": 17,
     "metadata": {},
     "output_type": "execute_result"
    }
   ],
   "source": [
    "data['above_average']"
   ]
  },
  {
   "cell_type": "code",
   "execution_count": 18,
   "id": "bef95f29",
   "metadata": {},
   "outputs": [],
   "source": [
    "data.drop('price', axis=1, inplace=True)"
   ]
  },
  {
   "cell_type": "code",
   "execution_count": 19,
   "id": "55ada10d",
   "metadata": {},
   "outputs": [],
   "source": [
    "# Split df into df_full_train (80%) and df_test (20%)\n",
    "df_full_train, df_test = train_test_split(data, test_size=0.2, random_state=1)\n",
    "\n",
    "# Further split df_full_train into df_train (60%) and df_val (20%)\n",
    "df_train, df_val = train_test_split(df_full_train, test_size=0.25, random_state=1)\n"
   ]
  },
  {
   "cell_type": "code",
   "execution_count": 20,
   "id": "0f2246f3",
   "metadata": {},
   "outputs": [
    {
     "data": {
      "text/plain": [
       "(7148, 2383, 2383)"
      ]
     },
     "execution_count": 20,
     "metadata": {},
     "output_type": "execute_result"
    }
   ],
   "source": [
    "len(df_train), len(df_val), len(df_test)"
   ]
  },
  {
   "cell_type": "code",
   "execution_count": 21,
   "id": "0346bdbd",
   "metadata": {},
   "outputs": [],
   "source": [
    "df_train = df_train.reset_index(drop=True)\n",
    "df_val = df_val.reset_index(drop=True)\n",
    "df_test = df_test.reset_index(drop=True)"
   ]
  },
  {
   "cell_type": "code",
   "execution_count": 22,
   "id": "05928d0e",
   "metadata": {},
   "outputs": [],
   "source": [
    "y_train = df_train.above_average.values\n",
    "y_val = df_val.above_average.values\n",
    "y_test = df_test.above_average.values\n",
    "\n",
    "del df_train['above_average']\n",
    "del df_val['above_average']\n",
    "del df_test['above_average']"
   ]
  },
  {
   "cell_type": "markdown",
   "id": "60f186ec",
   "metadata": {},
   "source": [
    "## Question 1: ROC AUC feature importance\n",
    "- ROC AUC could also be used to evaluate feature importance of numerical variables.\n",
    "\n",
    "Let's do that\n",
    "\n",
    "- For each numerical variable, use it as score and compute AUC with the above_average variable\n",
    "- Use the training dataset for that\n",
    "- If your AUC is < 0.5, invert this variable by putting \"-\" in front (e.g. -df_train['engine_hp'])\n",
    "\n",
    "- AUC can go below 0.5 if the variable is negatively correlated with the target varialble. You can change the direction of the correlation by negating this variable - then negative correlation becomes positive.\n",
    "\n",
    "- Which numerical variable (among the following 4) has the highest AUC?\n",
    "\n",
    "  - engine_hp\n",
    "  - engine_cylinders\n",
    "  - highway_mpg\n",
    "  - city_mpg"
   ]
  },
  {
   "cell_type": "code",
   "execution_count": 23,
   "id": "b2e86fdb",
   "metadata": {},
   "outputs": [
    {
     "data": {
      "text/plain": [
       "['year',\n",
       " 'engine_hp',\n",
       " 'engine_cylinders',\n",
       " 'highway_mpg',\n",
       " 'city_mpg',\n",
       " 'above_average']"
      ]
     },
     "execution_count": 23,
     "metadata": {},
     "output_type": "execute_result"
    }
   ],
   "source": [
    "# List of numerical variables\n",
    "num = data.select_dtypes(include=['number']).columns.tolist()\n",
    "\n",
    "num"
   ]
  },
  {
   "cell_type": "code",
   "execution_count": 24,
   "id": "4bf62cf5",
   "metadata": {},
   "outputs": [
    {
     "name": "stdout",
     "output_type": "stream",
     "text": [
      "engine_hp: 0.9171031265539011\n",
      "engine_cylinders: 0.766116490165669\n",
      "year: 0.687551492804683\n",
      "-city_mpg: -0.3265755356754767\n",
      "-highway_mpg: -0.3669412128227987\n"
     ]
    }
   ],
   "source": [
    "# Create an empty DataFrame to store AUC scores\n",
    "auc_scores = []\n",
    "\n",
    "# Iterate through numerical variables\n",
    "for num_var in df_train.select_dtypes(include=['number']):\n",
    "    # Compute the AUC for the current numerical variable\n",
    "    auc = roc_auc_score(y_train, df_train[num_var])\n",
    "    \n",
    "    # Check if AUC is less than 0.5\n",
    "    if auc < 0.5:\n",
    "        auc_scores.append((-auc, '-' + num_var))\n",
    "    else:\n",
    "        auc_scores.append((auc, num_var))\n",
    "\n",
    "# Sort\n",
    "auc_scores.sort(reverse=True)\n",
    "\n",
    "# Print the variable names and AUC scores\n",
    "for auc, var_name in auc_scores:\n",
    "    print(f'{var_name}: {auc}')\n"
   ]
  },
  {
   "cell_type": "markdown",
   "id": "a429e7d4",
   "metadata": {},
   "source": [
    "##### Answer = engine_hp"
   ]
  },
  {
   "cell_type": "markdown",
   "id": "1fccfb1a",
   "metadata": {},
   "source": [
    "## Question 2: Training the model\n",
    "- Apply one-hot-encoding using DictVectorizer and train the logistic regression with these parameters:\n",
    "'LogisticRegression(solver='liblinear', C=1.0, max_iter=1000)'\n",
    "- What's the AUC of this model on the validation dataset? (round to 3 digits)"
   ]
  },
  {
   "cell_type": "code",
   "execution_count": 25,
   "id": "74c73fdd",
   "metadata": {},
   "outputs": [
    {
     "data": {
      "text/plain": [
       "['make', 'model', 'transmission_type', 'vehicle_style']"
      ]
     },
     "execution_count": 25,
     "metadata": {},
     "output_type": "execute_result"
    }
   ],
   "source": [
    "cate = data.select_dtypes(include=['object', 'category']).columns.tolist()\n",
    "cate"
   ]
  },
  {
   "cell_type": "code",
   "execution_count": 26,
   "id": "a82399e7",
   "metadata": {},
   "outputs": [
    {
     "data": {
      "text/plain": [
       "['year', 'engine_hp', 'engine_cylinders', 'highway_mpg', 'city_mpg']"
      ]
     },
     "execution_count": 26,
     "metadata": {},
     "output_type": "execute_result"
    }
   ],
   "source": [
    "nume = df_train.select_dtypes(include=['number']).columns.tolist()\n",
    "nume"
   ]
  },
  {
   "cell_type": "code",
   "execution_count": 27,
   "id": "55074d6a",
   "metadata": {},
   "outputs": [],
   "source": [
    "dv = DictVectorizer(sparse=False)\n",
    "\n",
    "train_dict = df_train[cate + nume].to_dict(orient='records')\n",
    "X_train = dv.fit_transform(train_dict)\n",
    "\n",
    "val_dict = df_val[cate + nume].to_dict(orient='records')\n",
    "X_val = dv.transform(val_dict)"
   ]
  },
  {
   "cell_type": "markdown",
   "id": "31ba7c89",
   "metadata": {},
   "source": [
    "#### Logistic regression"
   ]
  },
  {
   "cell_type": "code",
   "execution_count": 28,
   "id": "d66c081f",
   "metadata": {},
   "outputs": [
    {
     "data": {
      "text/html": [
       "<style>#sk-container-id-1 {color: black;}#sk-container-id-1 pre{padding: 0;}#sk-container-id-1 div.sk-toggleable {background-color: white;}#sk-container-id-1 label.sk-toggleable__label {cursor: pointer;display: block;width: 100%;margin-bottom: 0;padding: 0.3em;box-sizing: border-box;text-align: center;}#sk-container-id-1 label.sk-toggleable__label-arrow:before {content: \"▸\";float: left;margin-right: 0.25em;color: #696969;}#sk-container-id-1 label.sk-toggleable__label-arrow:hover:before {color: black;}#sk-container-id-1 div.sk-estimator:hover label.sk-toggleable__label-arrow:before {color: black;}#sk-container-id-1 div.sk-toggleable__content {max-height: 0;max-width: 0;overflow: hidden;text-align: left;background-color: #f0f8ff;}#sk-container-id-1 div.sk-toggleable__content pre {margin: 0.2em;color: black;border-radius: 0.25em;background-color: #f0f8ff;}#sk-container-id-1 input.sk-toggleable__control:checked~div.sk-toggleable__content {max-height: 200px;max-width: 100%;overflow: auto;}#sk-container-id-1 input.sk-toggleable__control:checked~label.sk-toggleable__label-arrow:before {content: \"▾\";}#sk-container-id-1 div.sk-estimator input.sk-toggleable__control:checked~label.sk-toggleable__label {background-color: #d4ebff;}#sk-container-id-1 div.sk-label input.sk-toggleable__control:checked~label.sk-toggleable__label {background-color: #d4ebff;}#sk-container-id-1 input.sk-hidden--visually {border: 0;clip: rect(1px 1px 1px 1px);clip: rect(1px, 1px, 1px, 1px);height: 1px;margin: -1px;overflow: hidden;padding: 0;position: absolute;width: 1px;}#sk-container-id-1 div.sk-estimator {font-family: monospace;background-color: #f0f8ff;border: 1px dotted black;border-radius: 0.25em;box-sizing: border-box;margin-bottom: 0.5em;}#sk-container-id-1 div.sk-estimator:hover {background-color: #d4ebff;}#sk-container-id-1 div.sk-parallel-item::after {content: \"\";width: 100%;border-bottom: 1px solid gray;flex-grow: 1;}#sk-container-id-1 div.sk-label:hover label.sk-toggleable__label {background-color: #d4ebff;}#sk-container-id-1 div.sk-serial::before {content: \"\";position: absolute;border-left: 1px solid gray;box-sizing: border-box;top: 0;bottom: 0;left: 50%;z-index: 0;}#sk-container-id-1 div.sk-serial {display: flex;flex-direction: column;align-items: center;background-color: white;padding-right: 0.2em;padding-left: 0.2em;position: relative;}#sk-container-id-1 div.sk-item {position: relative;z-index: 1;}#sk-container-id-1 div.sk-parallel {display: flex;align-items: stretch;justify-content: center;background-color: white;position: relative;}#sk-container-id-1 div.sk-item::before, #sk-container-id-1 div.sk-parallel-item::before {content: \"\";position: absolute;border-left: 1px solid gray;box-sizing: border-box;top: 0;bottom: 0;left: 50%;z-index: -1;}#sk-container-id-1 div.sk-parallel-item {display: flex;flex-direction: column;z-index: 1;position: relative;background-color: white;}#sk-container-id-1 div.sk-parallel-item:first-child::after {align-self: flex-end;width: 50%;}#sk-container-id-1 div.sk-parallel-item:last-child::after {align-self: flex-start;width: 50%;}#sk-container-id-1 div.sk-parallel-item:only-child::after {width: 0;}#sk-container-id-1 div.sk-dashed-wrapped {border: 1px dashed gray;margin: 0 0.4em 0.5em 0.4em;box-sizing: border-box;padding-bottom: 0.4em;background-color: white;}#sk-container-id-1 div.sk-label label {font-family: monospace;font-weight: bold;display: inline-block;line-height: 1.2em;}#sk-container-id-1 div.sk-label-container {text-align: center;}#sk-container-id-1 div.sk-container {/* jupyter's `normalize.less` sets `[hidden] { display: none; }` but bootstrap.min.css set `[hidden] { display: none !important; }` so we also need the `!important` here to be able to override the default hidden behavior on the sphinx rendered scikit-learn.org. See: https://github.com/scikit-learn/scikit-learn/issues/21755 */display: inline-block !important;position: relative;}#sk-container-id-1 div.sk-text-repr-fallback {display: none;}</style><div id=\"sk-container-id-1\" class=\"sk-top-container\"><div class=\"sk-text-repr-fallback\"><pre>LogisticRegression(max_iter=1000, solver=&#x27;liblinear&#x27;)</pre><b>In a Jupyter environment, please rerun this cell to show the HTML representation or trust the notebook. <br />On GitHub, the HTML representation is unable to render, please try loading this page with nbviewer.org.</b></div><div class=\"sk-container\" hidden><div class=\"sk-item\"><div class=\"sk-estimator sk-toggleable\"><input class=\"sk-toggleable__control sk-hidden--visually\" id=\"sk-estimator-id-1\" type=\"checkbox\" checked><label for=\"sk-estimator-id-1\" class=\"sk-toggleable__label sk-toggleable__label-arrow\">LogisticRegression</label><div class=\"sk-toggleable__content\"><pre>LogisticRegression(max_iter=1000, solver=&#x27;liblinear&#x27;)</pre></div></div></div></div></div>"
      ],
      "text/plain": [
       "LogisticRegression(max_iter=1000, solver='liblinear')"
      ]
     },
     "execution_count": 28,
     "metadata": {},
     "output_type": "execute_result"
    }
   ],
   "source": [
    "model = LogisticRegression(solver='liblinear', C=1.0, max_iter=1000)\n",
    "model.fit(X_train, y_train)"
   ]
  },
  {
   "cell_type": "code",
   "execution_count": 29,
   "id": "ed433d9d",
   "metadata": {},
   "outputs": [],
   "source": [
    "y_pred = model.predict(X_val)"
   ]
  },
  {
   "cell_type": "code",
   "execution_count": 30,
   "id": "82de22ec",
   "metadata": {},
   "outputs": [],
   "source": [
    "y_pred_prob = model.predict_proba(X_val)[:, 1]"
   ]
  },
  {
   "cell_type": "code",
   "execution_count": 31,
   "id": "8df0ff1c",
   "metadata": {},
   "outputs": [
    {
     "data": {
      "text/plain": [
       "0.98"
      ]
     },
     "execution_count": 31,
     "metadata": {},
     "output_type": "execute_result"
    }
   ],
   "source": [
    "auc = roc_auc_score(y_val, y_pred_prob)\n",
    "\n",
    "round(auc, 3)"
   ]
  },
  {
   "cell_type": "markdown",
   "id": "9867aac6",
   "metadata": {},
   "source": [
    "##### Answer = 0.98"
   ]
  },
  {
   "cell_type": "markdown",
   "id": "eb63dc38",
   "metadata": {},
   "source": [
    "# Question 3: Precision and Recall\n",
    "Now let's compute precision and recall for our model.\n",
    "\n",
    "- Evaluate the model on all thresholds from 0.0 to 1.0 with step 0.01\n",
    "- For each threshold, compute precision and recall\n",
    "- Plot them"
   ]
  },
  {
   "cell_type": "code",
   "execution_count": 32,
   "id": "3aafa2ca",
   "metadata": {},
   "outputs": [
    {
     "data": {
      "image/png": "[encoded data removed]",
      "text/plain": [
       "<Figure size 800x600 with 1 Axes>"
      ]
     },
     "metadata": {},
     "output_type": "display_data"
    }
   ],
   "source": [
    "thresholds = np.arange(0.0, 1.0, 0.01)\n",
    "\n",
    "precision_scores = []\n",
    "recall_scores = []\n",
    "\n",
    "# Calculate precision and recall for each threshold\n",
    "for threshold in thresholds:\n",
    "    y_pred_threshold = (y_pred_prob >= threshold).astype(int)\n",
    "    \n",
    "    precision = precision_score(y_val, y_pred_threshold)\n",
    "    recall = recall_score(y_val, y_pred_threshold)\n",
    "    \n",
    "    precision_scores.append(precision)\n",
    "    recall_scores.append(recall)\n",
    "\n",
    "# plot\n",
    "plt.figure(figsize=(8, 6))\n",
    "plt.plot(thresholds, precision_scores, marker='o', linestyle='-', color='g', label='Precision')\n",
    "plt.plot(thresholds, recall_scores, marker='o', linestyle='-', color='r', label='Recall')\n",
    "plt.xlabel('Threshold')\n",
    "plt.ylabel('Score')\n",
    "plt.title('Precision - Recall Curves')\n",
    "plt.legend()\n",
    "plt.grid(True)\n",
    "plt.show()\n"
   ]
  },
  {
   "cell_type": "markdown",
   "id": "19bd65d7",
   "metadata": {},
   "source": [
    "##### Answer = The threshold precision and recall curves intersect at 0.48"
   ]
  },
  {
   "cell_type": "markdown",
   "id": "78d956e4",
   "metadata": {},
   "source": [
    "##  Question 4: F1 score\n",
    "Precision and recall are conflicting - when one grows, the other goes down. That's why they are often combined into the F1 score - a metrics that takes into account both\n",
    "\n",
    "- Let's compute F1 for all thresholds from 0.0 to 1.0 with increment 0.01\n",
    "\n",
    "- At which threshold F1 is maximal?"
   ]
  },
  {
   "cell_type": "code",
   "execution_count": 33,
   "id": "a3de4b92",
   "metadata": {},
   "outputs": [
    {
     "data": {
      "image/png": "[encoded data removed]",
      "text/plain": [
       "<Figure size 800x600 with 1 Axes>"
      ]
     },
     "metadata": {},
     "output_type": "display_data"
    }
   ],
   "source": [
    "thresholds = np.arange(0.0, 1.0, 0.01)\n",
    "\n",
    "f1_scores = []\n",
    "\n",
    "# Calculate F1-score for each threshold\n",
    "for threshold in thresholds:\n",
    "    y_pred_threshold = (y_pred_prob >= threshold).astype(int)\n",
    "    \n",
    "    precision = precision_score(y_val, y_pred_threshold)\n",
    "    recall = recall_score(y_val, y_pred_threshold)\n",
    "    \n",
    "    f1 = 2 * (precision * recall) / (precision + recall)\n",
    "    \n",
    "    f1_scores.append(f1)\n",
    "\n",
    "# plot\n",
    "plt.figure(figsize=(8, 6))\n",
    "plt.plot(thresholds, f1_scores, marker='o', linestyle='-', color='y', label='F1 Score')\n",
    "plt.xlabel('Threshold')\n",
    "plt.ylabel('F1 Score')\n",
    "plt.title('F1 Score vs. Threshold')\n",
    "plt.legend()\n",
    "plt.grid(True)\n",
    "plt.show()\n"
   ]
  },
  {
   "cell_type": "code",
   "execution_count": 34,
   "id": "0f316cbe",
   "metadata": {},
   "outputs": [
    {
     "data": {
      "image/png": "[encoded data removed]",
      "text/plain": [
       "<Figure size 640x480 with 1 Axes>"
      ]
     },
     "metadata": {},
     "output_type": "display_data"
    }
   ],
   "source": [
    "\n",
    "# Find the threshold at which F1 is maximal\n",
    "best_threshold_index = np.argmax(f1_scores)\n",
    "best_threshold = thresholds[best_threshold_index]\n",
    "max_f1_score = f1_scores[best_threshold_index]\n",
    "\n",
    "\n",
    "\n",
    "# Add a marker for the best threshold\n",
    "plt.scatter(best_threshold, max_f1_score, color='red', marker='x', label=f'Best Threshold ({best_threshold:.2f}, F1={max_f1_score:.2f})')\n",
    "plt.legend();"
   ]
  },
  {
   "cell_type": "markdown",
   "id": "5f9259c9",
   "metadata": {},
   "source": [
    "## Question 5: 5-Fold CV\n",
    "Use the KFold class from Scikit-Learn to evaluate our model on 5 different folds: KFold(n_splits=5, shuffle=True, random_state=1)\n",
    "- Iterate over different folds of df_full_train\n",
    "- Split the data into train and validation\n",
    "- Train the model on train with these parameters: LogisticRegression(solver='liblinear', C=1.0, max_iter=1000)\n",
    "- Use AUC to evaluate the model on validation\n",
    "- How large is standard devidation of the scores across different folds?"
   ]
  },
  {
   "cell_type": "code",
   "execution_count": 35,
   "id": "4d1215e9",
   "metadata": {},
   "outputs": [
    {
     "name": "stdout",
     "output_type": "stream",
     "text": [
      "AUC for Fold: 0.978\n",
      "AUC for Fold: 0.980\n",
      "AUC for Fold: 0.983\n",
      "AUC for Fold: 0.977\n",
      "AUC for Fold: 0.978\n"
     ]
    }
   ],
   "source": [
    "# Step 1: Define the KFold with 5 splits, shuffle, and random_state\n",
    "kf = KFold(n_splits=5, shuffle=True, random_state=1)\n",
    "\n",
    "# Step 2: Iterate over different folds of df_full_train\n",
    "for train_index, val_index in kf.split(df_full_train):\n",
    "    \n",
    "    # Step 3: Split the data into train and validation using fold indices\n",
    "    df_train_fold, df_val_fold = df_full_train.iloc[train_index], df_full_train.iloc[val_index]\n",
    "    \n",
    "    # Step 4: Extract features and target variables from the train and validation data\n",
    "    X_train_fold, y_train_fold = df_train_fold.drop(columns=['above_average']), df_train_fold['above_average']\n",
    "    X_val_fold, y_val_fold = df_val_fold.drop(columns=['above_average']), df_val_fold['above_average']\n",
    "\n",
    "    # Step 5: Feature engineering and data preprocessing\n",
    "    dv = DictVectorizer(sparse=False)\n",
    "\n",
    "    train_dict = df_train_fold[cate + nume].to_dict(orient='records')\n",
    "    X_train = dv.fit_transform(train_dict)\n",
    "\n",
    "    val_dict = df_val_fold[cate + nume].to_dict(orient='records')\n",
    "    X_val = dv.transform(val_dict)\n",
    "\n",
    "    # Step 6: Train the model on train data with specified parameters\n",
    "    model = LogisticRegression(solver='liblinear', C=1.0, max_iter=1000)\n",
    "    model.fit(X_train, y_train_fold)\n",
    "    \n",
    "    # Step 7: Predict probabilities on the validation data\n",
    "    y_val_probabilities = model.predict_proba(X_val)[:, 1]\n",
    "    \n",
    "    # Step 8: Calculate AUC score for the validation data\n",
    "    auc_score = roc_auc_score(y_val_fold, y_val_probabilities)\n",
    "    \n",
    "    # Step 9: Print the AUC score for this fold\n",
    "    print(f'AUC for Fold: {auc_score:.3f}')\n"
   ]
  },
  {
   "cell_type": "code",
   "execution_count": 36,
   "id": "d6f6e0a2",
   "metadata": {},
   "outputs": [
    {
     "name": "stdout",
     "output_type": "stream",
     "text": [
      "Standard Deviation of AUC Scores: 0.002\n"
     ]
    }
   ],
   "source": [
    "auc_scores = [0.978, 0.980, 0.983, 0.977, 0.978]\n",
    "\n",
    "std_deviation = np.std(auc_scores)\n",
    "print(f'Standard Deviation of AUC Scores: {std_deviation:.3f}')\n"
   ]
  },
  {
   "cell_type": "markdown",
   "id": "66110d92",
   "metadata": {},
   "source": [
    "## Question 6: Hyperparemeter Tuning\n",
    "- Now let's use 5-Fold cross-validation to find the best parameter C\n",
    "- Iterate over the following C values: [0.01, 0.1, 0.5, 10]\n",
    "- Initialize KFold with the same parameters as previously\n",
    "- Use these parametes for the model: LogisticRegression(solver='liblinear', C=C, max_iter=1000)\n",
    "- Compute the mean score as well as the std (round the mean and std to 3 decimal digits)"
   ]
  },
  {
   "cell_type": "code",
   "execution_count": 37,
   "id": "50f754c3",
   "metadata": {},
   "outputs": [
    {
     "name": "stdout",
     "output_type": "stream",
     "text": [
      "C=0.01: Mean AUC = 0.952, Std = 0.002\n",
      "C=0.1: Mean AUC = 0.972, Std = 0.002\n",
      "C=0.5: Mean AUC = 0.978, Std = 0.003\n",
      "C=10: Mean AUC = 0.984, Std = 0.003\n"
     ]
    }
   ],
   "source": [
    "C_values = [0.01, 0.1, 0.5, 10]\n",
    "\n",
    "# Initialize lists to store mean and standard deviation scores\n",
    "mean_scores = []\n",
    "std_scores = []\n",
    "\n",
    "kf = KFold(n_splits=5, shuffle=True, random_state=1)\n",
    "\n",
    "# Iterate over the C values\n",
    "for C in C_values:\n",
    "    # Initialize lists to store AUC scores for each fold\n",
    "    auc_scores = []\n",
    "    \n",
    "    # Iterate over different folds of df_full_train\n",
    "    for train_index, val_index in kf.split(df_full_train):\n",
    "        # Split the data into train and validation using fold indices\n",
    "        df_train_fold, df_val_fold = df_full_train.iloc[train_index], df_full_train.iloc[val_index]\n",
    "\n",
    "        # Extract features and target variables from the train and validation data\n",
    "        X_train_fold, y_train_fold = df_train_fold.drop(columns=['above_average']), df_train_fold['above_average']\n",
    "        X_val_fold, y_val_fold = df_val_fold.drop(columns=['above_average']), df_val_fold['above_average']\n",
    "\n",
    "        # Feature engineering and data preprocessing (same as before)\n",
    "        dv = DictVectorizer(sparse=False)\n",
    "        train_dict = df_train_fold[cate + nume].to_dict(orient='records')\n",
    "        X_train = dv.fit_transform(train_dict)\n",
    "        val_dict = df_val_fold[cate + nume].to_dict(orient='records')\n",
    "        X_val = dv.transform(val_dict)\n",
    "\n",
    "        # Train the model on train data with the current C value\n",
    "        model = LogisticRegression(solver='liblinear', C=C, max_iter=1000)\n",
    "        model.fit(X_train, y_train_fold)\n",
    "\n",
    "        # Predict probabilities on the validation data\n",
    "        y_val_probabilities = model.predict_proba(X_val)[:, 1]\n",
    "\n",
    "        # Calculate AUC score for the validation data and store it\n",
    "        auc_score = roc_auc_score(y_val_fold, y_val_probabilities)\n",
    "        auc_scores.append(auc_score)\n",
    "\n",
    "    # Calculate and store the mean and standard deviation of AUC scores for this C value\n",
    "    mean_auc = np.mean(auc_scores)\n",
    "    std_auc = np.std(auc_scores)\n",
    "    \n",
    "    mean_scores.append(round(mean_auc, 3))\n",
    "    std_scores.append(round(std_auc, 3))\n",
    "\n",
    "# Print the mean and standard deviation scores for each C value\n",
    "for i, C in enumerate(C_values):\n",
    "    print(f'C={C}: Mean AUC = {mean_scores[i]}, Std = {std_scores[i]}')\n"
   ]
  },
  {
   "cell_type": "code",
   "execution_count": null,
   "id": "5cdbae06",
   "metadata": {},
   "outputs": [],
   "source": []
  }
 ],
 "metadata": {
  "kernelspec": {
   "display_name": "Python 3 (ipykernel)",
   "language": "python",
   "name": "python3"
  },
  "language_info": {
   "codemirror_mode": {
    "name": "ipython",
    "version": 3
   },
   "file_extension": ".py",
   "mimetype": "text/x-python",
   "name": "python",
   "nbconvert_exporter": "python",
   "pygments_lexer": "ipython3",
   "version": "3.9.7"
  }
 },
 "nbformat": 4,
 "nbformat_minor": 5
}
